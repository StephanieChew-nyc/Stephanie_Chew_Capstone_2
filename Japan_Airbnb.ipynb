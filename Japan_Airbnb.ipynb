{
 "cells": [
  {
   "cell_type": "code",
   "execution_count": 191,
   "metadata": {},
   "outputs": [],
   "source": [
    "import pandas as pd\n",
    "import numpy as np\n",
    "import seaborn as sns"
   ]
  },
  {
   "cell_type": "markdown",
   "metadata": {},
   "source": [
    "## 1. Imported Listings and converted Price column"
   ]
  },
  {
   "cell_type": "code",
   "execution_count": 286,
   "metadata": {},
   "outputs": [
    {
     "name": "stdout",
     "output_type": "stream",
     "text": [
      "<class 'pandas.core.frame.DataFrame'>\n",
      "RangeIndex: 15009 entries, 0 to 15008\n",
      "Data columns (total 106 columns):\n",
      " #   Column                                        Dtype  \n",
      "---  ------                                        -----  \n",
      " 0   id                                            int64  \n",
      " 1   listing_url                                   object \n",
      " 2   scrape_id                                     int64  \n",
      " 3   last_scraped                                  object \n",
      " 4   name                                          object \n",
      " 5   summary                                       object \n",
      " 6   space                                         object \n",
      " 7   description                                   object \n",
      " 8   experiences_offered                           object \n",
      " 9   neighborhood_overview                         object \n",
      " 10  notes                                         object \n",
      " 11  transit                                       object \n",
      " 12  access                                        object \n",
      " 13  interaction                                   object \n",
      " 14  house_rules                                   object \n",
      " 15  thumbnail_url                                 float64\n",
      " 16  medium_url                                    float64\n",
      " 17  picture_url                                   object \n",
      " 18  xl_picture_url                                float64\n",
      " 19  host_id                                       int64  \n",
      " 20  host_url                                      object \n",
      " 21  host_name                                     object \n",
      " 22  host_since                                    object \n",
      " 23  host_location                                 object \n",
      " 24  host_about                                    object \n",
      " 25  host_response_time                            object \n",
      " 26  host_response_rate                            object \n",
      " 27  host_acceptance_rate                          object \n",
      " 28  host_is_superhost                             object \n",
      " 29  host_thumbnail_url                            object \n",
      " 30  host_picture_url                              object \n",
      " 31  host_neighbourhood                            object \n",
      " 32  host_listings_count                           float64\n",
      " 33  host_total_listings_count                     float64\n",
      " 34  host_verifications                            object \n",
      " 35  host_has_profile_pic                          object \n",
      " 36  host_identity_verified                        object \n",
      " 37  street                                        object \n",
      " 38  neighbourhood                                 object \n",
      " 39  neighbourhood_cleansed                        object \n",
      " 40  neighbourhood_group_cleansed                  float64\n",
      " 41  city                                          object \n",
      " 42  state                                         object \n",
      " 43  zipcode                                       object \n",
      " 44  market                                        object \n",
      " 45  smart_location                                object \n",
      " 46  country_code                                  object \n",
      " 47  country                                       object \n",
      " 48  latitude                                      float64\n",
      " 49  longitude                                     float64\n",
      " 50  is_location_exact                             object \n",
      " 51  property_type                                 object \n",
      " 52  room_type                                     object \n",
      " 53  accommodates                                  int64  \n",
      " 54  bathrooms                                     float64\n",
      " 55  bedrooms                                      float64\n",
      " 56  beds                                          float64\n",
      " 57  bed_type                                      object \n",
      " 58  amenities                                     object \n",
      " 59  square_feet                                   float64\n",
      " 60  price                                         int64  \n",
      " 61  weekly_price                                  object \n",
      " 62  monthly_price                                 object \n",
      " 63  security_deposit                              object \n",
      " 64  cleaning_fee                                  object \n",
      " 65  guests_included                               int64  \n",
      " 66  extra_people                                  object \n",
      " 67  minimum_nights                                int64  \n",
      " 68  maximum_nights                                int64  \n",
      " 69  minimum_minimum_nights                        int64  \n",
      " 70  maximum_minimum_nights                        int64  \n",
      " 71  minimum_maximum_nights                        int64  \n",
      " 72  maximum_maximum_nights                        int64  \n",
      " 73  minimum_nights_avg_ntm                        float64\n",
      " 74  maximum_nights_avg_ntm                        float64\n",
      " 75  calendar_updated                              object \n",
      " 76  has_availability                              object \n",
      " 77  availability_30                               int64  \n",
      " 78  availability_60                               int64  \n",
      " 79  availability_90                               int64  \n",
      " 80  availability_365                              int64  \n",
      " 81  calendar_last_scraped                         object \n",
      " 82  number_of_reviews                             int64  \n",
      " 83  number_of_reviews_ltm                         int64  \n",
      " 84  first_review                                  object \n",
      " 85  last_review                                   object \n",
      " 86  review_scores_rating                          float64\n",
      " 87  review_scores_accuracy                        float64\n",
      " 88  review_scores_cleanliness                     float64\n",
      " 89  review_scores_checkin                         float64\n",
      " 90  review_scores_communication                   float64\n",
      " 91  review_scores_location                        float64\n",
      " 92  review_scores_value                           float64\n",
      " 93  requires_license                              object \n",
      " 94  license                                       object \n",
      " 95  jurisdiction_names                            float64\n",
      " 96  instant_bookable                              object \n",
      " 97  is_business_travel_ready                      object \n",
      " 98  cancellation_policy                           object \n",
      " 99  require_guest_profile_picture                 object \n",
      " 100 require_guest_phone_verification              object \n",
      " 101 calculated_host_listings_count                int64  \n",
      " 102 calculated_host_listings_count_entire_homes   int64  \n",
      " 103 calculated_host_listings_count_private_rooms  int64  \n",
      " 104 calculated_host_listings_count_shared_rooms   int64  \n",
      " 105 reviews_per_month                             float64\n",
      "dtypes: float64(23), int64(22), object(61)\n",
      "memory usage: 12.1+ MB\n"
     ]
    }
   ],
   "source": [
    "df_listings2 = pd.read_csv('/Users/stephaniechew/Japan_Airbnb/listings.csv.gz')\n",
    "\n",
    "df_listings2['price'] = df_listings2['price'].str.replace(',','')\n",
    "df_listings2['price'] = df_listings2['price'].str.replace('$','').astype(float).astype(int)\n",
    "\n",
    "df_listings2.info(5)\n"
   ]
  },
  {
   "cell_type": "code",
   "execution_count": 459,
   "metadata": {},
   "outputs": [
    {
     "data": {
      "text/plain": [
       "id                                                                                        2839061\n",
       "listing_url                                                  https://www.airbnb.com/rooms/2839061\n",
       "scrape_id                                                                          20200530034812\n",
       "last_scraped                                                                           2020-05-30\n",
       "name                                            Work desk/Central TKO/Discover local life&culture\n",
       "                                                                      ...                        \n",
       "calculated_host_listings_count_entire_homes                                                     0\n",
       "calculated_host_listings_count_private_rooms                                                    1\n",
       "calculated_host_listings_count_shared_rooms                                                     0\n",
       "reviews_per_month                                                                            1.25\n",
       "US_Price                                                                                    52.08\n",
       "Name: 50, Length: 107, dtype: object"
      ]
     },
     "execution_count": 459,
     "metadata": {},
     "output_type": "execute_result"
    }
   ],
   "source": [
    "df_listings2.loc[df_listings2['bedrooms'].max()]"
   ]
  },
  {
   "cell_type": "markdown",
   "metadata": {},
   "source": [
    "## 1a. Dropped NaN in bedrooms column"
   ]
  },
  {
   "cell_type": "code",
   "execution_count": 386,
   "metadata": {},
   "outputs": [],
   "source": [
    "df_listings2.loc[df_listings2['bedrooms'].isna()]\n",
    "\n",
    "df_listings2.dropna(subset=['bedrooms'],inplace=True)"
   ]
  },
  {
   "cell_type": "markdown",
   "metadata": {},
   "source": [
    "## 2. Explored Tokyo Airbnb data"
   ]
  },
  {
   "cell_type": "code",
   "execution_count": 387,
   "metadata": {},
   "outputs": [
    {
     "data": {
      "text/html": [
       "<div>\n",
       "<style scoped>\n",
       "    .dataframe tbody tr th:only-of-type {\n",
       "        vertical-align: middle;\n",
       "    }\n",
       "\n",
       "    .dataframe tbody tr th {\n",
       "        vertical-align: top;\n",
       "    }\n",
       "\n",
       "    .dataframe thead th {\n",
       "        text-align: right;\n",
       "    }\n",
       "</style>\n",
       "<table border=\"1\" class=\"dataframe\">\n",
       "  <thead>\n",
       "    <tr style=\"text-align: right;\">\n",
       "      <th></th>\n",
       "      <th>index</th>\n",
       "      <th>minimum_nights</th>\n",
       "    </tr>\n",
       "  </thead>\n",
       "  <tbody>\n",
       "    <tr>\n",
       "      <th>0</th>\n",
       "      <td>1</td>\n",
       "      <td>8909</td>\n",
       "    </tr>\n",
       "    <tr>\n",
       "      <th>1</th>\n",
       "      <td>2</td>\n",
       "      <td>3811</td>\n",
       "    </tr>\n",
       "    <tr>\n",
       "      <th>2</th>\n",
       "      <td>3</td>\n",
       "      <td>774</td>\n",
       "    </tr>\n",
       "    <tr>\n",
       "      <th>3</th>\n",
       "      <td>30</td>\n",
       "      <td>689</td>\n",
       "    </tr>\n",
       "    <tr>\n",
       "      <th>4</th>\n",
       "      <td>7</td>\n",
       "      <td>134</td>\n",
       "    </tr>\n",
       "    <tr>\n",
       "      <th>5</th>\n",
       "      <td>5</td>\n",
       "      <td>129</td>\n",
       "    </tr>\n",
       "    <tr>\n",
       "      <th>6</th>\n",
       "      <td>4</td>\n",
       "      <td>128</td>\n",
       "    </tr>\n",
       "    <tr>\n",
       "      <th>7</th>\n",
       "      <td>28</td>\n",
       "      <td>74</td>\n",
       "    </tr>\n",
       "    <tr>\n",
       "      <th>8</th>\n",
       "      <td>6</td>\n",
       "      <td>71</td>\n",
       "    </tr>\n",
       "    <tr>\n",
       "      <th>9</th>\n",
       "      <td>23</td>\n",
       "      <td>54</td>\n",
       "    </tr>\n",
       "    <tr>\n",
       "      <th>10</th>\n",
       "      <td>14</td>\n",
       "      <td>43</td>\n",
       "    </tr>\n",
       "    <tr>\n",
       "      <th>11</th>\n",
       "      <td>15</td>\n",
       "      <td>32</td>\n",
       "    </tr>\n",
       "    <tr>\n",
       "      <th>12</th>\n",
       "      <td>10</td>\n",
       "      <td>25</td>\n",
       "    </tr>\n",
       "    <tr>\n",
       "      <th>13</th>\n",
       "      <td>31</td>\n",
       "      <td>24</td>\n",
       "    </tr>\n",
       "    <tr>\n",
       "      <th>14</th>\n",
       "      <td>29</td>\n",
       "      <td>17</td>\n",
       "    </tr>\n",
       "    <tr>\n",
       "      <th>15</th>\n",
       "      <td>20</td>\n",
       "      <td>16</td>\n",
       "    </tr>\n",
       "    <tr>\n",
       "      <th>16</th>\n",
       "      <td>12</td>\n",
       "      <td>12</td>\n",
       "    </tr>\n",
       "    <tr>\n",
       "      <th>17</th>\n",
       "      <td>13</td>\n",
       "      <td>10</td>\n",
       "    </tr>\n",
       "    <tr>\n",
       "      <th>18</th>\n",
       "      <td>21</td>\n",
       "      <td>5</td>\n",
       "    </tr>\n",
       "    <tr>\n",
       "      <th>19</th>\n",
       "      <td>60</td>\n",
       "      <td>3</td>\n",
       "    </tr>\n",
       "    <tr>\n",
       "      <th>20</th>\n",
       "      <td>50</td>\n",
       "      <td>3</td>\n",
       "    </tr>\n",
       "    <tr>\n",
       "      <th>21</th>\n",
       "      <td>32</td>\n",
       "      <td>3</td>\n",
       "    </tr>\n",
       "    <tr>\n",
       "      <th>22</th>\n",
       "      <td>365</td>\n",
       "      <td>3</td>\n",
       "    </tr>\n",
       "    <tr>\n",
       "      <th>23</th>\n",
       "      <td>8</td>\n",
       "      <td>3</td>\n",
       "    </tr>\n",
       "    <tr>\n",
       "      <th>24</th>\n",
       "      <td>180</td>\n",
       "      <td>2</td>\n",
       "    </tr>\n",
       "    <tr>\n",
       "      <th>25</th>\n",
       "      <td>25</td>\n",
       "      <td>2</td>\n",
       "    </tr>\n",
       "    <tr>\n",
       "      <th>26</th>\n",
       "      <td>9</td>\n",
       "      <td>2</td>\n",
       "    </tr>\n",
       "    <tr>\n",
       "      <th>27</th>\n",
       "      <td>11</td>\n",
       "      <td>1</td>\n",
       "    </tr>\n",
       "    <tr>\n",
       "      <th>28</th>\n",
       "      <td>100</td>\n",
       "      <td>1</td>\n",
       "    </tr>\n",
       "    <tr>\n",
       "      <th>29</th>\n",
       "      <td>35</td>\n",
       "      <td>1</td>\n",
       "    </tr>\n",
       "    <tr>\n",
       "      <th>30</th>\n",
       "      <td>360</td>\n",
       "      <td>1</td>\n",
       "    </tr>\n",
       "    <tr>\n",
       "      <th>31</th>\n",
       "      <td>99</td>\n",
       "      <td>1</td>\n",
       "    </tr>\n",
       "    <tr>\n",
       "      <th>32</th>\n",
       "      <td>24</td>\n",
       "      <td>1</td>\n",
       "    </tr>\n",
       "    <tr>\n",
       "      <th>33</th>\n",
       "      <td>16</td>\n",
       "      <td>1</td>\n",
       "    </tr>\n",
       "    <tr>\n",
       "      <th>34</th>\n",
       "      <td>33</td>\n",
       "      <td>1</td>\n",
       "    </tr>\n",
       "  </tbody>\n",
       "</table>\n",
       "</div>"
      ],
      "text/plain": [
       "    index  minimum_nights\n",
       "0       1            8909\n",
       "1       2            3811\n",
       "2       3             774\n",
       "3      30             689\n",
       "4       7             134\n",
       "5       5             129\n",
       "6       4             128\n",
       "7      28              74\n",
       "8       6              71\n",
       "9      23              54\n",
       "10     14              43\n",
       "11     15              32\n",
       "12     10              25\n",
       "13     31              24\n",
       "14     29              17\n",
       "15     20              16\n",
       "16     12              12\n",
       "17     13              10\n",
       "18     21               5\n",
       "19     60               3\n",
       "20     50               3\n",
       "21     32               3\n",
       "22    365               3\n",
       "23      8               3\n",
       "24    180               2\n",
       "25     25               2\n",
       "26      9               2\n",
       "27     11               1\n",
       "28    100               1\n",
       "29     35               1\n",
       "30    360               1\n",
       "31     99               1\n",
       "32     24               1\n",
       "33     16               1\n",
       "34     33               1"
      ]
     },
     "execution_count": 387,
     "metadata": {},
     "output_type": "execute_result"
    }
   ],
   "source": [
    "counts_of_nights = df_listings2['minimum_nights'].value_counts()\n",
    "\n",
    "df_listings2['room_type'].value_counts()\n",
    "\n",
    "df_listings2['host_name'].value_counts().head(10)\n",
    "\n",
    "counts_of_neighborhoods = df_listings2['neighbourhood_cleansed'].value_counts()\n",
    "\n",
    "df_listings2['price'].value_counts()\n",
    "\n",
    "df_listings2['bedrooms']>3\n",
    "\n",
    "counts_of_nights.reset_index()\n",
    "#counts_of_neighborhoods"
   ]
  },
  {
   "cell_type": "markdown",
   "metadata": {},
   "source": [
    "## 3. Filtered to Shinjuku District and counted minimum nights"
   ]
  },
  {
   "cell_type": "code",
   "execution_count": 388,
   "metadata": {},
   "outputs": [
    {
     "data": {
      "text/plain": [
       "minimum_nights\n",
       "1      1487\n",
       "2       397\n",
       "3        89\n",
       "30       25\n",
       "4        22\n",
       "7         7\n",
       "6         6\n",
       "5         5\n",
       "8         2\n",
       "13        2\n",
       "14        1\n",
       "20        1\n",
       "180       1\n",
       "Name: minimum_nights, dtype: int64"
      ]
     },
     "execution_count": 388,
     "metadata": {},
     "output_type": "execute_result"
    }
   ],
   "source": [
    "grouped1 = df_listings2.groupby(['neighbourhood_cleansed'])['minimum_nights']\n",
    "\n",
    "grouped1.value_counts().loc['Taito Ku']\n"
   ]
  },
  {
   "cell_type": "code",
   "execution_count": null,
   "metadata": {},
   "outputs": [],
   "source": []
  },
  {
   "cell_type": "markdown",
   "metadata": {},
   "source": [
    "## 4. What are the top 3 districts in Tokyo, Japan with most Airbnb postings?"
   ]
  },
  {
   "cell_type": "code",
   "execution_count": 399,
   "metadata": {},
   "outputs": [
    {
     "data": {
      "text/html": [
       "<div>\n",
       "<style scoped>\n",
       "    .dataframe tbody tr th:only-of-type {\n",
       "        vertical-align: middle;\n",
       "    }\n",
       "\n",
       "    .dataframe tbody tr th {\n",
       "        vertical-align: top;\n",
       "    }\n",
       "\n",
       "    .dataframe thead th {\n",
       "        text-align: right;\n",
       "    }\n",
       "</style>\n",
       "<table border=\"1\" class=\"dataframe\">\n",
       "  <thead>\n",
       "    <tr style=\"text-align: right;\">\n",
       "      <th></th>\n",
       "      <th>index</th>\n",
       "      <th>neighbourhood_cleansed</th>\n",
       "    </tr>\n",
       "  </thead>\n",
       "  <tbody>\n",
       "    <tr>\n",
       "      <th>0</th>\n",
       "      <td>Shinjuku Ku</td>\n",
       "      <td>2766</td>\n",
       "    </tr>\n",
       "    <tr>\n",
       "      <th>1</th>\n",
       "      <td>Taito Ku</td>\n",
       "      <td>2045</td>\n",
       "    </tr>\n",
       "    <tr>\n",
       "      <th>2</th>\n",
       "      <td>Toshima Ku</td>\n",
       "      <td>1543</td>\n",
       "    </tr>\n",
       "  </tbody>\n",
       "</table>\n",
       "</div>"
      ],
      "text/plain": [
       "         index  neighbourhood_cleansed\n",
       "0  Shinjuku Ku                    2766\n",
       "1     Taito Ku                    2045\n",
       "2   Toshima Ku                    1543"
      ]
     },
     "execution_count": 399,
     "metadata": {},
     "output_type": "execute_result"
    }
   ],
   "source": [
    "top3_districts = df_listings2['neighbourhood_cleansed'].value_counts().head(3).reset_index()\n",
    "top3_districts"
   ]
  },
  {
   "cell_type": "code",
   "execution_count": 398,
   "metadata": {},
   "outputs": [
    {
     "data": {
      "text/plain": [
       "[Text(0, 0.5, 'Number of Posts'), Text(0.5, 0, 'Three Districts')]"
      ]
     },
     "execution_count": 398,
     "metadata": {},
     "output_type": "execute_result"
    },
    {
     "data": {
      "image/png": "[encoded data removed]",
      "text/plain": [
       "<Figure size 432x288 with 1 Axes>"
      ]
     },
     "metadata": {
      "needs_background": "light"
     },
     "output_type": "display_data"
    }
   ],
   "source": [
    "top3_dist_bar = sns.barplot(x='index', y=\"neighbourhood_cleansed\", data=top3_districts, palette='Purples_r')\n",
    "top3_dist_bar.set(xlabel='Three Districts', ylabel='Number of Posts')"
   ]
  },
  {
   "cell_type": "markdown",
   "metadata": {},
   "source": [
    "# 5. Average price per room type in Shinjuku, Taito, and Toshima Districts"
   ]
  },
  {
   "cell_type": "code",
   "execution_count": 369,
   "metadata": {},
   "outputs": [
    {
     "data": {
      "text/html": [
       "<div>\n",
       "<style scoped>\n",
       "    .dataframe tbody tr th:only-of-type {\n",
       "        vertical-align: middle;\n",
       "    }\n",
       "\n",
       "    .dataframe tbody tr th {\n",
       "        vertical-align: top;\n",
       "    }\n",
       "\n",
       "    .dataframe thead th {\n",
       "        text-align: right;\n",
       "    }\n",
       "</style>\n",
       "<table border=\"1\" class=\"dataframe\">\n",
       "  <thead>\n",
       "    <tr style=\"text-align: right;\">\n",
       "      <th></th>\n",
       "      <th>room_type</th>\n",
       "      <th>price</th>\n",
       "    </tr>\n",
       "  </thead>\n",
       "  <tbody>\n",
       "    <tr>\n",
       "      <th>0</th>\n",
       "      <td>Entire home/apt</td>\n",
       "      <td>24294.04</td>\n",
       "    </tr>\n",
       "    <tr>\n",
       "      <th>1</th>\n",
       "      <td>Hotel room</td>\n",
       "      <td>10389.41</td>\n",
       "    </tr>\n",
       "    <tr>\n",
       "      <th>2</th>\n",
       "      <td>Private room</td>\n",
       "      <td>15418.29</td>\n",
       "    </tr>\n",
       "    <tr>\n",
       "      <th>3</th>\n",
       "      <td>Shared room</td>\n",
       "      <td>3348.53</td>\n",
       "    </tr>\n",
       "  </tbody>\n",
       "</table>\n",
       "</div>"
      ],
      "text/plain": [
       "         room_type     price\n",
       "0  Entire home/apt  24294.04\n",
       "1       Hotel room  10389.41\n",
       "2     Private room  15418.29\n",
       "3      Shared room   3348.53"
      ]
     },
     "execution_count": 369,
     "metadata": {},
     "output_type": "execute_result"
    }
   ],
   "source": [
    "grouped2b = df_listings2.groupby(['neighbourhood_cleansed', 'room_type'])['price'].mean().round(2)\n",
    "\n",
    "Shinjuku = grouped2b.loc['Shinjuku Ku'].reset_index()\n",
    "Shinjuku"
   ]
  },
  {
   "cell_type": "markdown",
   "metadata": {},
   "source": [
    "# Converted from Yen to USD and added new column"
   ]
  },
  {
   "cell_type": "code",
   "execution_count": 370,
   "metadata": {},
   "outputs": [
    {
     "data": {
      "text/html": [
       "<div>\n",
       "<style scoped>\n",
       "    .dataframe tbody tr th:only-of-type {\n",
       "        vertical-align: middle;\n",
       "    }\n",
       "\n",
       "    .dataframe tbody tr th {\n",
       "        vertical-align: top;\n",
       "    }\n",
       "\n",
       "    .dataframe thead th {\n",
       "        text-align: right;\n",
       "    }\n",
       "</style>\n",
       "<table border=\"1\" class=\"dataframe\">\n",
       "  <thead>\n",
       "    <tr style=\"text-align: right;\">\n",
       "      <th></th>\n",
       "      <th>room_type</th>\n",
       "      <th>US_Price</th>\n",
       "    </tr>\n",
       "  </thead>\n",
       "  <tbody>\n",
       "    <tr>\n",
       "      <th>0</th>\n",
       "      <td>Entire home/apt</td>\n",
       "      <td>230.79</td>\n",
       "    </tr>\n",
       "    <tr>\n",
       "      <th>1</th>\n",
       "      <td>Hotel room</td>\n",
       "      <td>98.70</td>\n",
       "    </tr>\n",
       "    <tr>\n",
       "      <th>2</th>\n",
       "      <td>Private room</td>\n",
       "      <td>146.47</td>\n",
       "    </tr>\n",
       "    <tr>\n",
       "      <th>3</th>\n",
       "      <td>Shared room</td>\n",
       "      <td>31.81</td>\n",
       "    </tr>\n",
       "  </tbody>\n",
       "</table>\n",
       "</div>"
      ],
      "text/plain": [
       "         room_type  US_Price\n",
       "0  Entire home/apt    230.79\n",
       "1       Hotel room     98.70\n",
       "2     Private room    146.47\n",
       "3      Shared room     31.81"
      ]
     },
     "execution_count": 370,
     "metadata": {},
     "output_type": "execute_result"
    }
   ],
   "source": [
    "df_listings2['US_Price'] = df_listings2['price']*0.0095\n",
    "\n",
    "df_listings2['US_Price'] = df_listings2['US_Price'].round(2)\n",
    "\n",
    "grouped2c = df_listings2.groupby(['neighbourhood_cleansed', 'room_type'])['US_Price'].mean().round(2)\n",
    "\n",
    "US_price_Shinjuku = grouped2c.loc['Shinjuku Ku'].reset_index()\n",
    "US_price_Shinjuku"
   ]
  },
  {
   "cell_type": "markdown",
   "metadata": {},
   "source": [
    "# Average price per room type in Taito District"
   ]
  },
  {
   "cell_type": "code",
   "execution_count": 371,
   "metadata": {},
   "outputs": [
    {
     "data": {
      "text/html": [
       "<div>\n",
       "<style scoped>\n",
       "    .dataframe tbody tr th:only-of-type {\n",
       "        vertical-align: middle;\n",
       "    }\n",
       "\n",
       "    .dataframe tbody tr th {\n",
       "        vertical-align: top;\n",
       "    }\n",
       "\n",
       "    .dataframe thead th {\n",
       "        text-align: right;\n",
       "    }\n",
       "</style>\n",
       "<table border=\"1\" class=\"dataframe\">\n",
       "  <thead>\n",
       "    <tr style=\"text-align: right;\">\n",
       "      <th></th>\n",
       "      <th>room_type</th>\n",
       "      <th>price</th>\n",
       "    </tr>\n",
       "  </thead>\n",
       "  <tbody>\n",
       "    <tr>\n",
       "      <th>0</th>\n",
       "      <td>Entire home/apt</td>\n",
       "      <td>42634.09</td>\n",
       "    </tr>\n",
       "    <tr>\n",
       "      <th>1</th>\n",
       "      <td>Hotel room</td>\n",
       "      <td>32502.74</td>\n",
       "    </tr>\n",
       "    <tr>\n",
       "      <th>2</th>\n",
       "      <td>Private room</td>\n",
       "      <td>13720.48</td>\n",
       "    </tr>\n",
       "    <tr>\n",
       "      <th>3</th>\n",
       "      <td>Shared room</td>\n",
       "      <td>6828.48</td>\n",
       "    </tr>\n",
       "  </tbody>\n",
       "</table>\n",
       "</div>"
      ],
      "text/plain": [
       "         room_type     price\n",
       "0  Entire home/apt  42634.09\n",
       "1       Hotel room  32502.74\n",
       "2     Private room  13720.48\n",
       "3      Shared room   6828.48"
      ]
     },
     "execution_count": 371,
     "metadata": {},
     "output_type": "execute_result"
    }
   ],
   "source": [
    "#Average price in Yen\n",
    "Taito = grouped2b.loc['Taito Ku'].reset_index()\n",
    "Taito"
   ]
  },
  {
   "cell_type": "code",
   "execution_count": 372,
   "metadata": {},
   "outputs": [
    {
     "data": {
      "text/html": [
       "<div>\n",
       "<style scoped>\n",
       "    .dataframe tbody tr th:only-of-type {\n",
       "        vertical-align: middle;\n",
       "    }\n",
       "\n",
       "    .dataframe tbody tr th {\n",
       "        vertical-align: top;\n",
       "    }\n",
       "\n",
       "    .dataframe thead th {\n",
       "        text-align: right;\n",
       "    }\n",
       "</style>\n",
       "<table border=\"1\" class=\"dataframe\">\n",
       "  <thead>\n",
       "    <tr style=\"text-align: right;\">\n",
       "      <th></th>\n",
       "      <th>room_type</th>\n",
       "      <th>US_Price</th>\n",
       "    </tr>\n",
       "  </thead>\n",
       "  <tbody>\n",
       "    <tr>\n",
       "      <th>0</th>\n",
       "      <td>Entire home/apt</td>\n",
       "      <td>405.02</td>\n",
       "    </tr>\n",
       "    <tr>\n",
       "      <th>1</th>\n",
       "      <td>Hotel room</td>\n",
       "      <td>308.78</td>\n",
       "    </tr>\n",
       "    <tr>\n",
       "      <th>2</th>\n",
       "      <td>Private room</td>\n",
       "      <td>130.34</td>\n",
       "    </tr>\n",
       "    <tr>\n",
       "      <th>3</th>\n",
       "      <td>Shared room</td>\n",
       "      <td>64.87</td>\n",
       "    </tr>\n",
       "  </tbody>\n",
       "</table>\n",
       "</div>"
      ],
      "text/plain": [
       "         room_type  US_Price\n",
       "0  Entire home/apt    405.02\n",
       "1       Hotel room    308.78\n",
       "2     Private room    130.34\n",
       "3      Shared room     64.87"
      ]
     },
     "execution_count": 372,
     "metadata": {},
     "output_type": "execute_result"
    }
   ],
   "source": [
    "US_price_Taito = grouped2c.loc['Taito Ku'].reset_index()\n",
    "US_price_Taito"
   ]
  },
  {
   "cell_type": "code",
   "execution_count": 300,
   "metadata": {},
   "outputs": [
    {
     "data": {
      "text/html": [
       "<div>\n",
       "<style scoped>\n",
       "    .dataframe tbody tr th:only-of-type {\n",
       "        vertical-align: middle;\n",
       "    }\n",
       "\n",
       "    .dataframe tbody tr th {\n",
       "        vertical-align: top;\n",
       "    }\n",
       "\n",
       "    .dataframe thead th {\n",
       "        text-align: right;\n",
       "    }\n",
       "</style>\n",
       "<table border=\"1\" class=\"dataframe\">\n",
       "  <thead>\n",
       "    <tr style=\"text-align: right;\">\n",
       "      <th></th>\n",
       "      <th>room_type</th>\n",
       "      <th>US_Price</th>\n",
       "    </tr>\n",
       "  </thead>\n",
       "  <tbody>\n",
       "    <tr>\n",
       "      <th>0</th>\n",
       "      <td>Entire home/apt</td>\n",
       "      <td>355.98</td>\n",
       "    </tr>\n",
       "    <tr>\n",
       "      <th>1</th>\n",
       "      <td>Hotel room</td>\n",
       "      <td>77.79</td>\n",
       "    </tr>\n",
       "    <tr>\n",
       "      <th>2</th>\n",
       "      <td>Private room</td>\n",
       "      <td>72.05</td>\n",
       "    </tr>\n",
       "    <tr>\n",
       "      <th>3</th>\n",
       "      <td>Shared room</td>\n",
       "      <td>29.64</td>\n",
       "    </tr>\n",
       "  </tbody>\n",
       "</table>\n",
       "</div>"
      ],
      "text/plain": [
       "         room_type  US_Price\n",
       "0  Entire home/apt    355.98\n",
       "1       Hotel room     77.79\n",
       "2     Private room     72.05\n",
       "3      Shared room     29.64"
      ]
     },
     "execution_count": 300,
     "metadata": {},
     "output_type": "execute_result"
    }
   ],
   "source": [
    "US_Price_Toshima = grouped2c.loc['Toshima Ku'].reset_index()\n",
    "US_Price_Toshima"
   ]
  },
  {
   "cell_type": "markdown",
   "metadata": {},
   "source": [
    "## Average USD price per night, per room type, in top 3 districts"
   ]
  },
  {
   "cell_type": "code",
   "execution_count": 400,
   "metadata": {},
   "outputs": [
    {
     "data": {
      "text/plain": [
       "[Text(0, 0.5, 'Average USD Price per Night'), Text(0.5, 0, 'Three Districts')]"
      ]
     },
     "execution_count": 400,
     "metadata": {},
     "output_type": "execute_result"
    },
    {
     "data": {
      "image/png": "[encoded data removed]",
      "text/plain": [
       "<Figure size 432x288 with 1 Axes>"
      ]
     },
     "metadata": {
      "needs_background": "light"
     },
     "output_type": "display_data"
    }
   ],
   "source": [
    "grouped2c = grouped2c.reset_index()\n",
    "grouped_taito = grouped2c['neighbourhood_cleansed'] == 'Taito Ku'\n",
    "grouped_shinjuku = grouped2c['neighbourhood_cleansed'] == 'Shinjuku Ku'\n",
    "grouped_toshima = grouped2c['neighbourhood_cleansed'] == 'Toshima Ku'\n",
    "\n",
    "grouped_three_districts = grouped2c.loc[grouped_taito | grouped_shinjuku | grouped_toshima]\n",
    "\n",
    "grouped_three_avg_bar = sns.barplot(x='neighbourhood_cleansed', y='US_Price', hue='room_type', \n",
    "            data=grouped_three_districts, palette='spring')\n",
    "\n",
    "grouped_three_avg_bar.set(xlabel='Three Districts', ylabel='Average USD Price per Night')\n"
   ]
  },
  {
   "cell_type": "code",
   "execution_count": 352,
   "metadata": {},
   "outputs": [
    {
     "data": {
      "text/plain": [
       "<matplotlib.axes._subplots.AxesSubplot at 0x7fe4d94c7490>"
      ]
     },
     "execution_count": 352,
     "metadata": {},
     "output_type": "execute_result"
    },
    {
     "data": {
      "image/png": "[encoded data removed]",
      "text/plain": [
       "<Figure size 432x288 with 1 Axes>"
      ]
     },
     "metadata": {
      "needs_background": "light"
     },
     "output_type": "display_data"
    }
   ],
   "source": [
    "find_bedrooms = df_listings2['bedrooms']>3\n",
    "taito_only = df_listings2['neighbourhood_cleansed']=='Taito Ku'\n",
    "prices1 = df_listings2['US_Price'] <=200\n",
    "find_taito = df_listings2.loc[find_bedrooms & prices1 & taito_only]\n",
    "sns.barplot(x='bedrooms', y='US_Price', data=find_taito, palette='spring')"
   ]
  },
  {
   "cell_type": "code",
   "execution_count": 353,
   "metadata": {},
   "outputs": [
    {
     "data": {
      "text/plain": [
       "<matplotlib.axes._subplots.AxesSubplot at 0x7fe4d705f990>"
      ]
     },
     "execution_count": 353,
     "metadata": {},
     "output_type": "execute_result"
    },
    {
     "data": {
      "image/png": "[encoded data removed]",
      "text/plain": [
       "<Figure size 432x288 with 1 Axes>"
      ]
     },
     "metadata": {
      "needs_background": "light"
     },
     "output_type": "display_data"
    }
   ],
   "source": [
    "find_bedrooms = df_listings2['bedrooms']>3\n",
    "shinjuku_only = df_listings2['neighbourhood_cleansed']=='Shinjuku Ku'\n",
    "prices1 = df_listings2['US_Price'] <=300\n",
    "find_shinjuku = df_listings2.loc[find_bedrooms & prices1 & shinjuku_only]\n",
    "sns.barplot(x='bedrooms', y='US_Price', data=find_shinjuku, palette='spring')"
   ]
  },
  {
   "cell_type": "code",
   "execution_count": 354,
   "metadata": {},
   "outputs": [
    {
     "data": {
      "text/plain": [
       "<matplotlib.axes._subplots.AxesSubplot at 0x7fe4d94c7610>"
      ]
     },
     "execution_count": 354,
     "metadata": {},
     "output_type": "execute_result"
    },
    {
     "data": {
      "image/png": "[encoded data removed]",
      "text/plain": [
       "<Figure size 432x288 with 1 Axes>"
      ]
     },
     "metadata": {
      "needs_background": "light"
     },
     "output_type": "display_data"
    }
   ],
   "source": [
    "find_bedrooms = df_listings2['bedrooms']>3\n",
    "toshima_only = df_listings2['neighbourhood_cleansed']=='Toshima Ku'\n",
    "prices1 = df_listings2['US_Price'] <=200\n",
    "find_toshima = df_listings2.loc[find_bedrooms & prices1 & toshima_only]\n",
    "sns.barplot(x='bedrooms', y='US_Price', data=find_toshima, palette='spring')"
   ]
  },
  {
   "cell_type": "code",
   "execution_count": 452,
   "metadata": {},
   "outputs": [],
   "source": [
    "find_bedrooms.to_csv('find_bedrooms.csv',sep=',')"
   ]
  },
  {
   "cell_type": "markdown",
   "metadata": {},
   "source": [
    "## Created visualization on 4 or more bedrooms, cost less than 300 USD, and within 3 districts"
   ]
  },
  {
   "cell_type": "code",
   "execution_count": 404,
   "metadata": {},
   "outputs": [
    {
     "data": {
      "text/plain": [
       "[Text(0, 0.5, 'Average USD Price per Night'),\n",
       " Text(0.5, 0, 'Number of Bedrooms')]"
      ]
     },
     "execution_count": 404,
     "metadata": {},
     "output_type": "execute_result"
    },
    {
     "data": {
      "image/png": "[encoded data removed]",
      "text/plain": [
       "<Figure size 432x288 with 1 Axes>"
      ]
     },
     "metadata": {
      "needs_background": "light"
     },
     "output_type": "display_data"
    }
   ],
   "source": [
    "three_districts_only = df_listings2.loc[find_bedrooms & prices1 & (toshima_only|shinjuku_only|taito_only)]\n",
    "\n",
    "three_districts_bar = sns.barplot(x='bedrooms', y='US_Price', hue='neighbourhood_cleansed', \n",
    "                                  data=three_districts_only, palette='Purples')\n",
    "\n",
    "three_districts_bar.set(xlabel='Number of Bedrooms', ylabel='Average USD Price per Night')\n"
   ]
  },
  {
   "cell_type": "code",
   "execution_count": null,
   "metadata": {},
   "outputs": [],
   "source": []
  },
  {
   "cell_type": "markdown",
   "metadata": {},
   "source": [
    "## 6 bedroom apartment in Taito District"
   ]
  },
  {
   "cell_type": "code",
   "execution_count": 499,
   "metadata": {},
   "outputs": [
    {
     "data": {
      "text/html": [
       "<div>\n",
       "<style scoped>\n",
       "    .dataframe tbody tr th:only-of-type {\n",
       "        vertical-align: middle;\n",
       "    }\n",
       "\n",
       "    .dataframe tbody tr th {\n",
       "        vertical-align: top;\n",
       "    }\n",
       "\n",
       "    .dataframe thead th {\n",
       "        text-align: right;\n",
       "    }\n",
       "</style>\n",
       "<table border=\"1\" class=\"dataframe\">\n",
       "  <thead>\n",
       "    <tr style=\"text-align: right;\">\n",
       "      <th></th>\n",
       "      <th>id</th>\n",
       "      <th>listing_url</th>\n",
       "      <th>scrape_id</th>\n",
       "      <th>last_scraped</th>\n",
       "      <th>name</th>\n",
       "      <th>summary</th>\n",
       "      <th>space</th>\n",
       "      <th>description</th>\n",
       "      <th>experiences_offered</th>\n",
       "      <th>neighborhood_overview</th>\n",
       "      <th>...</th>\n",
       "      <th>is_business_travel_ready</th>\n",
       "      <th>cancellation_policy</th>\n",
       "      <th>require_guest_profile_picture</th>\n",
       "      <th>require_guest_phone_verification</th>\n",
       "      <th>calculated_host_listings_count</th>\n",
       "      <th>calculated_host_listings_count_entire_homes</th>\n",
       "      <th>calculated_host_listings_count_private_rooms</th>\n",
       "      <th>calculated_host_listings_count_shared_rooms</th>\n",
       "      <th>reviews_per_month</th>\n",
       "      <th>US_Price</th>\n",
       "    </tr>\n",
       "  </thead>\n",
       "  <tbody>\n",
       "    <tr>\n",
       "      <th>1656</th>\n",
       "      <td>18691692</td>\n",
       "      <td>https://www.airbnb.com/rooms/18691692</td>\n",
       "      <td>20200530034812</td>\n",
       "      <td>2020-05-30</td>\n",
       "      <td>Asakusa 15people The best location for sightse...</td>\n",
       "      <td>In 2019 we hired an architect to renovate a tr...</td>\n",
       "      <td>It can accommodate up to 15 people.</td>\n",
       "      <td>In 2019 we hired an architect to renovate a tr...</td>\n",
       "      <td>none</td>\n",
       "      <td>Sensoji Temple 6min Asakusa Hanayashiki 5min G...</td>\n",
       "      <td>...</td>\n",
       "      <td>f</td>\n",
       "      <td>strict_14_with_grace_period</td>\n",
       "      <td>f</td>\n",
       "      <td>f</td>\n",
       "      <td>2</td>\n",
       "      <td>2</td>\n",
       "      <td>0</td>\n",
       "      <td>0</td>\n",
       "      <td>0.72</td>\n",
       "      <td>92.93</td>\n",
       "    </tr>\n",
       "    <tr>\n",
       "      <th>7075</th>\n",
       "      <td>32776518</td>\n",
       "      <td>https://www.airbnb.com/rooms/32776518</td>\n",
       "      <td>20200530034812</td>\n",
       "      <td>2020-05-30</td>\n",
       "      <td>(101) 3 mins to Station, near by Ueno and Asakusa</td>\n",
       "      <td>Only 3 minutes to walk to Minowa station of To...</td>\n",
       "      <td>There is a car park nearby the building.  It i...</td>\n",
       "      <td>Only 3 minutes to walk to Minowa station of To...</td>\n",
       "      <td>none</td>\n",
       "      <td>本民宿座落在上野,浅草区域的三之轮居民住宅区｡ 关于上野,浅草我就不做说明了,小伙伴们都知道...</td>\n",
       "      <td>...</td>\n",
       "      <td>f</td>\n",
       "      <td>moderate</td>\n",
       "      <td>f</td>\n",
       "      <td>f</td>\n",
       "      <td>4</td>\n",
       "      <td>4</td>\n",
       "      <td>0</td>\n",
       "      <td>0</td>\n",
       "      <td>3.06</td>\n",
       "      <td>189.95</td>\n",
       "    </tr>\n",
       "    <tr>\n",
       "      <th>10369</th>\n",
       "      <td>38648746</td>\n",
       "      <td>https://www.airbnb.com/rooms/38648746</td>\n",
       "      <td>20200530034812</td>\n",
       "      <td>2020-05-30</td>\n",
       "      <td>★10min Walk Akihabara Big Apt up to 10 People★</td>\n",
       "      <td>If you are searching the apt with the followin...</td>\n",
       "      <td>It is a huge Akihabara apt with - Living Dinin...</td>\n",
       "      <td>If you are searching the apt with the followin...</td>\n",
       "      <td>none</td>\n",
       "      <td>Akihabara, the otaku capital of Japan, is a gr...</td>\n",
       "      <td>...</td>\n",
       "      <td>f</td>\n",
       "      <td>strict_14_with_grace_period</td>\n",
       "      <td>f</td>\n",
       "      <td>f</td>\n",
       "      <td>10</td>\n",
       "      <td>9</td>\n",
       "      <td>0</td>\n",
       "      <td>1</td>\n",
       "      <td>1.49</td>\n",
       "      <td>189.95</td>\n",
       "    </tr>\n",
       "    <tr>\n",
       "      <th>13498</th>\n",
       "      <td>42105132</td>\n",
       "      <td>https://www.airbnb.com/rooms/42105132</td>\n",
       "      <td>20200530034812</td>\n",
       "      <td>2020-05-30</td>\n",
       "      <td>Asakusa Huge Private House UP to 14ppl.</td>\n",
       "      <td>Perfect location in Asakusa area. Asakusa Sta....</td>\n",
       "      <td>【 About the room 】 ･80㎡ ･Internet / WiFi route...</td>\n",
       "      <td>Perfect location in Asakusa area. Asakusa Sta....</td>\n",
       "      <td>none</td>\n",
       "      <td>NaN</td>\n",
       "      <td>...</td>\n",
       "      <td>f</td>\n",
       "      <td>strict_14_with_grace_period</td>\n",
       "      <td>f</td>\n",
       "      <td>f</td>\n",
       "      <td>1</td>\n",
       "      <td>1</td>\n",
       "      <td>0</td>\n",
       "      <td>0</td>\n",
       "      <td>0.42</td>\n",
       "      <td>80.67</td>\n",
       "    </tr>\n",
       "  </tbody>\n",
       "</table>\n",
       "<p>4 rows × 107 columns</p>\n",
       "</div>"
      ],
      "text/plain": [
       "             id                            listing_url       scrape_id  \\\n",
       "1656   18691692  https://www.airbnb.com/rooms/18691692  20200530034812   \n",
       "7075   32776518  https://www.airbnb.com/rooms/32776518  20200530034812   \n",
       "10369  38648746  https://www.airbnb.com/rooms/38648746  20200530034812   \n",
       "13498  42105132  https://www.airbnb.com/rooms/42105132  20200530034812   \n",
       "\n",
       "      last_scraped                                               name  \\\n",
       "1656    2020-05-30  Asakusa 15people The best location for sightse...   \n",
       "7075    2020-05-30  (101) 3 mins to Station, near by Ueno and Asakusa   \n",
       "10369   2020-05-30     ★10min Walk Akihabara Big Apt up to 10 People★   \n",
       "13498   2020-05-30            Asakusa Huge Private House UP to 14ppl.   \n",
       "\n",
       "                                                 summary  \\\n",
       "1656   In 2019 we hired an architect to renovate a tr...   \n",
       "7075   Only 3 minutes to walk to Minowa station of To...   \n",
       "10369  If you are searching the apt with the followin...   \n",
       "13498  Perfect location in Asakusa area. Asakusa Sta....   \n",
       "\n",
       "                                                   space  \\\n",
       "1656                 It can accommodate up to 15 people.   \n",
       "7075   There is a car park nearby the building.  It i...   \n",
       "10369  It is a huge Akihabara apt with - Living Dinin...   \n",
       "13498  【 About the room 】 ･80㎡ ･Internet / WiFi route...   \n",
       "\n",
       "                                             description experiences_offered  \\\n",
       "1656   In 2019 we hired an architect to renovate a tr...                none   \n",
       "7075   Only 3 minutes to walk to Minowa station of To...                none   \n",
       "10369  If you are searching the apt with the followin...                none   \n",
       "13498  Perfect location in Asakusa area. Asakusa Sta....                none   \n",
       "\n",
       "                                   neighborhood_overview  ...  \\\n",
       "1656   Sensoji Temple 6min Asakusa Hanayashiki 5min G...  ...   \n",
       "7075   本民宿座落在上野,浅草区域的三之轮居民住宅区｡ 关于上野,浅草我就不做说明了,小伙伴们都知道...  ...   \n",
       "10369  Akihabara, the otaku capital of Japan, is a gr...  ...   \n",
       "13498                                                NaN  ...   \n",
       "\n",
       "      is_business_travel_ready          cancellation_policy  \\\n",
       "1656                         f  strict_14_with_grace_period   \n",
       "7075                         f                     moderate   \n",
       "10369                        f  strict_14_with_grace_period   \n",
       "13498                        f  strict_14_with_grace_period   \n",
       "\n",
       "      require_guest_profile_picture require_guest_phone_verification  \\\n",
       "1656                              f                                f   \n",
       "7075                              f                                f   \n",
       "10369                             f                                f   \n",
       "13498                             f                                f   \n",
       "\n",
       "      calculated_host_listings_count  \\\n",
       "1656                               2   \n",
       "7075                               4   \n",
       "10369                             10   \n",
       "13498                              1   \n",
       "\n",
       "       calculated_host_listings_count_entire_homes  \\\n",
       "1656                                             2   \n",
       "7075                                             4   \n",
       "10369                                            9   \n",
       "13498                                            1   \n",
       "\n",
       "       calculated_host_listings_count_private_rooms  \\\n",
       "1656                                              0   \n",
       "7075                                              0   \n",
       "10369                                             0   \n",
       "13498                                             0   \n",
       "\n",
       "      calculated_host_listings_count_shared_rooms  reviews_per_month  US_Price  \n",
       "1656                                            0               0.72     92.93  \n",
       "7075                                            0               3.06    189.95  \n",
       "10369                                           1               1.49    189.95  \n",
       "13498                                           0               0.42     80.67  \n",
       "\n",
       "[4 rows x 107 columns]"
      ]
     },
     "execution_count": 499,
     "metadata": {},
     "output_type": "execute_result"
    }
   ],
   "source": [
    "find_taito.loc[find_taito['bedrooms'] >= 5]"
   ]
  },
  {
   "cell_type": "markdown",
   "metadata": {},
   "source": [
    "## Dropped columns and created copy of data for visualizations "
   ]
  },
  {
   "cell_type": "code",
   "execution_count": 492,
   "metadata": {},
   "outputs": [
    {
     "data": {
      "text/plain": [
       "(14986, 46)"
      ]
     },
     "execution_count": 492,
     "metadata": {},
     "output_type": "execute_result"
    }
   ],
   "source": [
    "df_listings2_copy = df_listings2.drop(['summary','description', 'experiences_offered', 'notes', 'transit', 'access', \n",
    "                   'thumbnail_url', 'house_rules', 'medium_url', 'picture_url', 'interaction', 'xl_picture_url',\n",
    "                  'host_url', \"scrape_id\", 'last_scraped','require_guest_profile_picture', 'host_about',\n",
    "                  'host_response_time', 'host_response_rate', 'host_acceptance_rate','neighborhood_overview'\n",
    "                  , 'space', 'host_thumbnail_url', 'host_picture_url', 'is_business_travel_ready', 'instant_bookable',\n",
    "                  'license', 'jurisdiction_names', 'requires_license', 'review_scores_location', 'review_scores_communication', 'cancellation_policy',\n",
    "                  'review_scores_checkin', 'review_scores_cleanliness', 'review_scores_rating', 'review_scores_accuracy', 'require_guest_phone_verification',\n",
    "                  'number_of_reviews_ltm', 'reviews_per_month', 'host_is_superhost', 'calendar_last_scraped',\n",
    "                  'host_response_time', 'host_response_rate', 'host_acceptance_rate', 'host_has_profile_pic','host_identity_verified', 'is_location_exact',\n",
    "                  'maximum_nights', 'minimum_minimum_nights', 'maximum_minimum_nights', 'minimum_maximum_nights', 'maximum_maximum_nights',\n",
    "                  'minimum_nights_avg_ntm', 'maximum_nights_avg_ntm','calendar_updated','accommodates', 'first_review', 'last_review',\n",
    "                  'neighbourhood_group_cleansed', 'host_listings_count', 'host_verifications', 'interaction',\n",
    "                  'house_rules', 'thumbnail_url', 'medium_url'], axis=1)\n",
    "df_listings2_copy.drop(['square_feet', 'weekly_price', 'monthly_price'], axis=1, inplace=True)\n",
    "df_listings2_copy.shape\n",
    "\n",
    "#df_listings2_copy.to_csv('listings_copy.csv')"
   ]
  },
  {
   "cell_type": "code",
   "execution_count": 489,
   "metadata": {},
   "outputs": [
    {
     "data": {
      "text/plain": [
       "id                                                                                       17600537\n",
       "listing_url                                                 https://www.airbnb.com/rooms/17600537\n",
       "name                                             お1人様~専用個室｡日暮里駅至近! Tokyo Guest House 2020-Opening\n",
       "host_id                                                                                  12014384\n",
       "host_name                                                                                 Niiyama\n",
       "host_since                                                                             2014-02-07\n",
       "host_location                                   2 Chome 33-14, Higashi-ogu, Arakawaku, Tokyo, ...\n",
       "host_neighbourhood                                                               Arakawa District\n",
       "host_total_listings_count                                                                      17\n",
       "street                                                                            荒川区, 東京都, Japan\n",
       "neighbourhood                                                                    Arakawa District\n",
       "neighbourhood_cleansed                                                                 Arakawa Ku\n",
       "city                                                                                          荒川区\n",
       "state                                                                                         東京都\n",
       "zipcode                                                                                  116-0012\n",
       "market                                                                                      Tokyo\n",
       "smart_location                                                                         荒川区, Japan\n",
       "country_code                                                                                   JP\n",
       "country                                                                                     Japan\n",
       "latitude                                                                                  35.7439\n",
       "longitude                                                                                 139.772\n",
       "property_type                                                                         Condominium\n",
       "room_type                                                                            Private room\n",
       "bathrooms                                                                                      16\n",
       "bedrooms                                                                                       50\n",
       "beds                                                                                           36\n",
       "bed_type                                                                                 Real Bed\n",
       "amenities                                       {TV,Wifi,\"Air conditioning\",Kitchen,\"Hot tub\",...\n",
       "price                                                                                        3010\n",
       "security_deposit                                                                            $0.00\n",
       "cleaning_fee                                                                            $2,000.00\n",
       "guests_included                                                                                 1\n",
       "extra_people                                                                            $1,500.00\n",
       "minimum_nights                                                                                  1\n",
       "has_availability                                                                                t\n",
       "availability_30                                                                                29\n",
       "availability_60                                                                                59\n",
       "availability_90                                                                                89\n",
       "availability_365                                                                              179\n",
       "number_of_reviews                                                                               4\n",
       "review_scores_value                                                                             9\n",
       "calculated_host_listings_count                                                                  8\n",
       "calculated_host_listings_count_entire_homes                                                     0\n",
       "calculated_host_listings_count_private_rooms                                                    8\n",
       "calculated_host_listings_count_shared_rooms                                                     0\n",
       "US_Price                                                                                     28.6\n",
       "Name: 1483, dtype: object"
      ]
     },
     "execution_count": 489,
     "metadata": {},
     "output_type": "execute_result"
    }
   ],
   "source": [
    "df_listings2_copy['bedrooms'].idxmax()\n",
    "df_listings2_copy.loc[1483]\n",
    "# df_listings2_copy.drop(index=1482, inplace=True)"
   ]
  },
  {
   "cell_type": "code",
   "execution_count": null,
   "metadata": {},
   "outputs": [],
   "source": []
  }
 ],
 "metadata": {
  "kernelspec": {
   "display_name": "Python 3",
   "language": "python",
   "name": "python3"
  },
  "language_info": {
   "codemirror_mode": {
    "name": "ipython",
    "version": 3
   },
   "file_extension": ".py",
   "mimetype": "text/x-python",
   "name": "python",
   "nbconvert_exporter": "python",
   "pygments_lexer": "ipython3",
   "version": "3.7.6"
  }
 },
 "nbformat": 4,
 "nbformat_minor": 4
}
